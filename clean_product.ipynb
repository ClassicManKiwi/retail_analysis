{
 "cells": [
  {
   "cell_type": "code",
   "execution_count": 1,
   "id": "6577bd07-eab3-4e8c-a273-3b0600c5c3a5",
   "metadata": {
    "tags": []
   },
   "outputs": [],
   "source": [
    "import pandas as pd\n",
    "import warnings\n",
    "warnings.filterwarnings(\"ignore\")"
   ]
  },
  {
   "cell_type": "code",
   "execution_count": 2,
   "id": "eb4fe9b3-4282-4958-8346-4819bbce5331",
   "metadata": {
    "tags": []
   },
   "outputs": [
    {
     "data": {
      "text/html": [
       "<div>\n",
       "<style scoped>\n",
       "    .dataframe tbody tr th:only-of-type {\n",
       "        vertical-align: middle;\n",
       "    }\n",
       "\n",
       "    .dataframe tbody tr th {\n",
       "        vertical-align: top;\n",
       "    }\n",
       "\n",
       "    .dataframe thead th {\n",
       "        text-align: right;\n",
       "    }\n",
       "</style>\n",
       "<table border=\"1\" class=\"dataframe\">\n",
       "  <thead>\n",
       "    <tr style=\"text-align: right;\">\n",
       "      <th></th>\n",
       "      <th>upc</th>\n",
       "      <th>product_description</th>\n",
       "      <th>commodity</th>\n",
       "      <th>brand</th>\n",
       "      <th>product_size</th>\n",
       "    </tr>\n",
       "  </thead>\n",
       "  <tbody>\n",
       "    <tr>\n",
       "      <th>0</th>\n",
       "      <td>111112360</td>\n",
       "      <td>VINCENT S ORIG MARINARA S</td>\n",
       "      <td>pasta sauce</td>\n",
       "      <td>Vincent's</td>\n",
       "      <td>25 OZ</td>\n",
       "    </tr>\n",
       "    <tr>\n",
       "      <th>1</th>\n",
       "      <td>566300023</td>\n",
       "      <td>PINE MOUNTAIN SYRUP</td>\n",
       "      <td>syrups</td>\n",
       "      <td>Pine Mountain</td>\n",
       "      <td>40 OZ</td>\n",
       "    </tr>\n",
       "    <tr>\n",
       "      <th>2</th>\n",
       "      <td>566300028</td>\n",
       "      <td>MILLER CANE SYRUP</td>\n",
       "      <td>syrups</td>\n",
       "      <td>Miller</td>\n",
       "      <td>19 OZ</td>\n",
       "    </tr>\n",
       "    <tr>\n",
       "      <th>3</th>\n",
       "      <td>566300029</td>\n",
       "      <td>MILLER CANE SYRUP</td>\n",
       "      <td>syrups</td>\n",
       "      <td>Miller</td>\n",
       "      <td>12 OZ</td>\n",
       "    </tr>\n",
       "    <tr>\n",
       "      <th>4</th>\n",
       "      <td>566300035</td>\n",
       "      <td>PINE MOUNTAIN SYRUP</td>\n",
       "      <td>syrups</td>\n",
       "      <td>Pine Mountain</td>\n",
       "      <td>19 OZ</td>\n",
       "    </tr>\n",
       "  </tbody>\n",
       "</table>\n",
       "</div>"
      ],
      "text/plain": [
       "         upc        product_description    commodity          brand  \\\n",
       "0  111112360  VINCENT S ORIG MARINARA S  pasta sauce      Vincent's   \n",
       "1  566300023        PINE MOUNTAIN SYRUP       syrups  Pine Mountain   \n",
       "2  566300028          MILLER CANE SYRUP       syrups         Miller   \n",
       "3  566300029          MILLER CANE SYRUP       syrups         Miller   \n",
       "4  566300035        PINE MOUNTAIN SYRUP       syrups  Pine Mountain   \n",
       "\n",
       "  product_size  \n",
       "0        25 OZ  \n",
       "1        40 OZ  \n",
       "2        19 OZ  \n",
       "3        12 OZ  \n",
       "4        19 OZ  "
      ]
     },
     "execution_count": 2,
     "metadata": {},
     "output_type": "execute_result"
    }
   ],
   "source": [
    "prod = pd.read_csv('dh_product_lookup.csv')\n",
    "prod.head(5)"
   ]
  },
  {
   "cell_type": "code",
   "execution_count": 3,
   "id": "08230556-b6c8-4dc3-922b-17b4172c38d7",
   "metadata": {
    "tags": []
   },
   "outputs": [
    {
     "data": {
      "text/html": [
       "<div>\n",
       "<style scoped>\n",
       "    .dataframe tbody tr th:only-of-type {\n",
       "        vertical-align: middle;\n",
       "    }\n",
       "\n",
       "    .dataframe tbody tr th {\n",
       "        vertical-align: top;\n",
       "    }\n",
       "\n",
       "    .dataframe thead th {\n",
       "        text-align: right;\n",
       "    }\n",
       "</style>\n",
       "<table border=\"1\" class=\"dataframe\">\n",
       "  <thead>\n",
       "    <tr style=\"text-align: right;\">\n",
       "      <th></th>\n",
       "      <th>upc</th>\n",
       "      <th>product_description</th>\n",
       "      <th>commodity</th>\n",
       "      <th>brand</th>\n",
       "      <th>product_size</th>\n",
       "    </tr>\n",
       "  </thead>\n",
       "  <tbody>\n",
       "    <tr>\n",
       "      <th>922</th>\n",
       "      <td>9999985217</td>\n",
       "      <td>PRIVATE LABEL ALPHABETS</td>\n",
       "      <td>pasta</td>\n",
       "      <td>Private Label</td>\n",
       "      <td>16 OZ</td>\n",
       "    </tr>\n",
       "    <tr>\n",
       "      <th>923</th>\n",
       "      <td>9999985260</td>\n",
       "      <td>PRIVATE LABEL COMPLETE PANCAKE MIX</td>\n",
       "      <td>pancake mixes</td>\n",
       "      <td>Private Label</td>\n",
       "      <td>32 OZ</td>\n",
       "    </tr>\n",
       "    <tr>\n",
       "      <th>924</th>\n",
       "      <td>9999985261</td>\n",
       "      <td>PRIVATE LABEL COMPLETE PANCAKE MIX</td>\n",
       "      <td>pancake mixes</td>\n",
       "      <td>Private Label</td>\n",
       "      <td>2 LB</td>\n",
       "    </tr>\n",
       "    <tr>\n",
       "      <th>925</th>\n",
       "      <td>9999985488</td>\n",
       "      <td>PRIVATE LABEL ITAL NESTED ANGEL HAIR</td>\n",
       "      <td>pasta</td>\n",
       "      <td>Private Label Premium</td>\n",
       "      <td>16 OZ</td>\n",
       "    </tr>\n",
       "    <tr>\n",
       "      <th>926</th>\n",
       "      <td>9999985766</td>\n",
       "      <td>PRIVATE LABEL ITALIAN TRI COLORE CRE</td>\n",
       "      <td>pasta</td>\n",
       "      <td>Private Label Premium</td>\n",
       "      <td>16 OZ</td>\n",
       "    </tr>\n",
       "  </tbody>\n",
       "</table>\n",
       "</div>"
      ],
      "text/plain": [
       "            upc                   product_description      commodity  \\\n",
       "922  9999985217               PRIVATE LABEL ALPHABETS          pasta   \n",
       "923  9999985260    PRIVATE LABEL COMPLETE PANCAKE MIX  pancake mixes   \n",
       "924  9999985261    PRIVATE LABEL COMPLETE PANCAKE MIX  pancake mixes   \n",
       "925  9999985488  PRIVATE LABEL ITAL NESTED ANGEL HAIR          pasta   \n",
       "926  9999985766  PRIVATE LABEL ITALIAN TRI COLORE CRE          pasta   \n",
       "\n",
       "                     brand product_size  \n",
       "922          Private Label        16 OZ  \n",
       "923          Private Label        32 OZ  \n",
       "924          Private Label         2 LB  \n",
       "925  Private Label Premium        16 OZ  \n",
       "926  Private Label Premium        16 OZ  "
      ]
     },
     "execution_count": 3,
     "metadata": {},
     "output_type": "execute_result"
    }
   ],
   "source": [
    "prod.tail(5)"
   ]
  },
  {
   "cell_type": "code",
   "execution_count": 4,
   "id": "22ddc3e3-075d-440b-b7df-615e21627307",
   "metadata": {
    "tags": []
   },
   "outputs": [
    {
     "name": "stdout",
     "output_type": "stream",
     "text": [
      "<class 'pandas.core.frame.DataFrame'>\n",
      "RangeIndex: 927 entries, 0 to 926\n",
      "Data columns (total 5 columns):\n",
      " #   Column               Non-Null Count  Dtype \n",
      "---  ------               --------------  ----- \n",
      " 0   upc                  927 non-null    int64 \n",
      " 1   product_description  927 non-null    object\n",
      " 2   commodity            927 non-null    object\n",
      " 3   brand                927 non-null    object\n",
      " 4   product_size         927 non-null    object\n",
      "dtypes: int64(1), object(4)\n",
      "memory usage: 36.3+ KB\n"
     ]
    }
   ],
   "source": [
    "prod.info()"
   ]
  },
  {
   "cell_type": "code",
   "execution_count": 5,
   "id": "8d54c1e6-2644-43ab-a61f-00c4ebc2de51",
   "metadata": {
    "tags": []
   },
   "outputs": [
    {
     "data": {
      "text/plain": [
       "upc                    0\n",
       "product_description    0\n",
       "commodity              0\n",
       "brand                  0\n",
       "product_size           0\n",
       "dtype: int64"
      ]
     },
     "execution_count": 5,
     "metadata": {},
     "output_type": "execute_result"
    }
   ],
   "source": [
    "prod.isnull().sum()"
   ]
  },
  {
   "cell_type": "code",
   "execution_count": 6,
   "id": "585f3131-d688-4898-8736-672207c30c1c",
   "metadata": {
    "tags": []
   },
   "outputs": [
    {
     "data": {
      "text/plain": [
       "0"
      ]
     },
     "execution_count": 6,
     "metadata": {},
     "output_type": "execute_result"
    }
   ],
   "source": [
    "prod.duplicated().sum()"
   ]
  },
  {
   "cell_type": "code",
   "execution_count": 7,
   "id": "ca9dad84-3e11-4573-88b2-bb7bfd079c7b",
   "metadata": {
    "tags": []
   },
   "outputs": [
    {
     "data": {
      "text/plain": [
       "(927, 5)"
      ]
     },
     "execution_count": 7,
     "metadata": {},
     "output_type": "execute_result"
    }
   ],
   "source": [
    "prod.shape"
   ]
  },
  {
   "cell_type": "code",
   "execution_count": 8,
   "id": "ac218532-c152-419d-927f-260a14bf6cf3",
   "metadata": {
    "tags": []
   },
   "outputs": [
    {
     "data": {
      "text/plain": [
       "Index(['upc', 'product_description', 'commodity', 'brand', 'product_size'], dtype='object')"
      ]
     },
     "execution_count": 8,
     "metadata": {},
     "output_type": "execute_result"
    }
   ],
   "source": [
    "prod.columns"
   ]
  },
  {
   "cell_type": "markdown",
   "id": "25979c33-4f77-4649-884b-dab3c81f0539",
   "metadata": {},
   "source": [
    "# Clean product_size to OZ numerical first"
   ]
  },
  {
   "cell_type": "code",
   "execution_count": 9,
   "id": "61cb269b-0c78-4ea9-868e-2b2630893175",
   "metadata": {
    "tags": []
   },
   "outputs": [
    {
     "name": "stdout",
     "output_type": "stream",
     "text": [
      "BOVES RSTD GRL SCE 26 OZ\n",
      "DECECCO CAPELLINI    16OZ\n",
      "DECECCO SPAGHETTINI  16OZ\n",
      "DECECCO SPAGHETTI    16OZ\n",
      "DECECCO FUSILLI      16OZ\n",
      "DECECCO PENNE REGATE 16OZ\n",
      "DECECCO PENNE RIGATE 16OZ\n",
      "RAGU CHS CREATN PARM MOZZ\n",
      "RAGU PARMESAN & MOZZ\n",
      "RAOS PASTA STROZZAPPRETI\n",
      "PATSYS VODKA SAUCE 24 OZ\n",
      "PATSY ROASTED ONION 12 OZ\n",
      "DA VINCI LASAGNA 16 OZ\n",
      "ANTOINES CAVATAPPI 12 OZ\n",
      "COZY COTTAGE S/F SYRUP\n",
      "COZY COTTAGE SYRUP S/FREE\n",
      "DELL ALPE TORTELLINI 7 OZ\n",
      "DEL ALPE ANGEL HAIR 8 OZ\n",
      "BARILLA JUMBO SHELS 12 OZ\n",
      "M C ARRIBIATA SAUCE 26 OZ\n",
      "MOMS PUTTANESCA SCE 24 OZ\n"
     ]
    }
   ],
   "source": [
    "for i, descrip in enumerate(prod['product_description'].unique()):\n",
    "    if 'OZ' in descrip:\n",
    "        print(descrip)"
   ]
  },
  {
   "cell_type": "code",
   "execution_count": 10,
   "id": "6d9d47f7-ff85-4b63-8010-0a7f04505193",
   "metadata": {
    "tags": []
   },
   "outputs": [],
   "source": [
    "prod.loc[prod['product_description'] == 'BOVES RSTD GRL SCE 26 OZ', 'product_size'] = '26 OZ'\n",
    "prod.loc[prod['product_description'] == 'DECECCO CAPELLINI    16OZ', 'product_size'] = '16 OZ'\n",
    "prod.loc[prod['product_description'] == 'DECECCO SPAGHETTINI  16OZ', 'product_size'] = '16 OZ'\n",
    "prod.loc[prod['product_description'] == 'DECECCO SPAGHETTI    16OZ', 'product_size'] = '16 OZ'\n",
    "prod.loc[prod['product_description'] == 'DECECCO FUSILLI      16OZ', 'product_size'] = '16 OZ'\n",
    "prod.loc[prod['product_description'] == 'DECECCO PENNE REGATE 16OZ', 'product_size'] = '16 OZ'\n",
    "prod.loc[prod['product_description'] == 'DECECCO PENNE RIGATE 16OZ', 'product_size'] = '16 OZ'\n",
    "prod.loc[prod['product_description'] == 'PATSYS VODKA SAUCE 24 OZ', 'product_size'] = '24 OZ'\n",
    "prod.loc[prod['product_description'] == 'PATSY ROASTED ONION 12 OZ', 'product_size'] = '12 OZ'\n",
    "prod.loc[prod['product_description'] == 'DA VINCI LASAGNA 16 OZ', 'product_size'] = '16 OZ'\n",
    "prod.loc[prod['product_description'] == 'ANTOINES CAVATAPPI 12 OZ', 'product_size'] = '12 OZ'\n",
    "prod.loc[prod['product_description'] == 'DELL ALPE TORTELLINI 7 OZ', 'product_size'] = '7 OZ'\n",
    "prod.loc[prod['product_description'] == 'DEL ALPE ANGEL HAIR 8 OZ', 'product_size'] = '8 OZ'\n",
    "prod.loc[prod['product_description'] == 'BARILLA JUMBO SHELS 12 OZ', 'product_size'] = '12 OZ'\n",
    "prod.loc[prod['product_description'] == 'M C ARRIBIATA SAUCE 26 OZ', 'product_size'] = '26 OZ'\n",
    "prod.loc[prod['product_description'] == 'MOMS PUTTANESCA SCE 24 OZ', 'product_size'] = '24 OZ'"
   ]
  },
  {
   "cell_type": "code",
   "execution_count": 11,
   "id": "dad9ec38-56fd-49d3-80ba-4938bcedd1ef",
   "metadata": {
    "tags": []
   },
   "outputs": [
    {
     "data": {
      "text/plain": [
       "802    24 OZ\n",
       "Name: product_size, dtype: object"
      ]
     },
     "execution_count": 11,
     "metadata": {},
     "output_type": "execute_result"
    }
   ],
   "source": [
    "prod.loc[prod['product_description'] == 'MOMS PUTTANESCA SCE 24 OZ', 'product_size']"
   ]
  },
  {
   "cell_type": "code",
   "execution_count": 12,
   "id": "d695187e-3541-44c6-b566-daeab18edc30",
   "metadata": {
    "tags": []
   },
   "outputs": [
    {
     "data": {
      "text/plain": [
       "array(['25 OZ', '40 OZ', '19 OZ', '12 OZ', '26    OZ', '26 OUNCE',\n",
       "       '26 OZ', '16 OZ', '17 OZ', '26.5 OZ', '5 OZ', '10.5 OZ', '15 OZ',\n",
       "       '24 OZ', '5.5 OZ', '7 OZ', 'N     1 LB', '32 OZ', '1 LB', '16  OZ',\n",
       "       '16  Z', '8 OZ', '2 LB', '16OZ', '13.25 OZ', '6.75 OZ', '7.75 OZ',\n",
       "       '1.5 LB', '27.6 OZ', ' ', '37 OZ', '7.25 OZ', '12 FL OZ',\n",
       "       '17.5 OZ', '10 OZ', '31.5 OZ', '31 1/2 OZ', '##########', '3LB',\n",
       "       '24  OZ', '32    OZ', '36 OZ', '36    OZ', '6 1/2 OZ',\n",
       "       'CR   16 OZ', 'P     1 LB', 'P    16 OZ', 'P    12 OZ', '14 OZ',\n",
       "       '26 OZ.', '26.3 OZ', '16    OZ', '6 LB 11 OZ', '45 OZ',\n",
       "       '45 OZ PET', '45    OZ', '45 OZ.', '25.3 OZ', '6.3 OZ', '23 OZ',\n",
       "       '8.5 OZ', 'P    24 OZ', '10OZ', '10    OZ', '28 OZ', '12.00Z',\n",
       "       '12    OZ', '24 FL OZ', '24OZ', '36 FL OZ', '17.7 OZ', '24    OZ',\n",
       "       '17.6 OZ', '12.7 OZ', '25.5 OZ', '27.75 OZ', '67  OZ', '67 OZ',\n",
       "       '48 OZ', '48    OZ', '28    OZ', '25.75 OZ', '25.6 OZ', '27.50 OZ',\n",
       "       '27.5 OZ', '14.5 OZ', '12.5 OZ', '23OZ', 'GAL', 'KH# 61780',\n",
       "       '11.6', '7    OZ', '3.5 OZ', 'SO   16 OZ', '8.8 OZ', 'NO TAG',\n",
       "       '16.00  OZ', 'N    16 OZ', 'KH# 20749', '12 OUNCE', '6 OZ',\n",
       "       '8 OUNCE', '2.8 OZ', '15.5 OZ', '24 OUNCE', 'P    25 OZ',\n",
       "       '16.9 OZ', '.50 OZ', '1.1 OZ', '10.6 OZ', 'KH# 18280', 'KH# 18283',\n",
       "       '16 OUNCE', '9    OZ', '8    OZ', '13 OZ', '13OZ FMLY', '2.5 OZ',\n",
       "       '20 OZ', '12.5 FL OZ', 'KH# 39724', 'KH# 68255', 'CR   14 OZ',\n",
       "       '6.5 OZ', '4 LB', '36 OZ.', '3 LB', '26.50 OZ', 'N     7 OZ',\n",
       "       '32OZ'], dtype=object)"
      ]
     },
     "execution_count": 12,
     "metadata": {},
     "output_type": "execute_result"
    }
   ],
   "source": [
    "prod['product_size'].unique()"
   ]
  },
  {
   "cell_type": "code",
   "execution_count": 13,
   "id": "6ccdfd47-3fb4-4b53-9cc1-586cb1b15e22",
   "metadata": {
    "tags": []
   },
   "outputs": [
    {
     "name": "stdout",
     "output_type": "stream",
     "text": [
      "N     1 LB\n",
      "1 LB\n",
      "2 LB\n",
      "1.5 LB\n",
      "3LB\n",
      "P     1 LB\n",
      "6 LB 11 OZ\n",
      "4 LB\n",
      "3 LB\n"
     ]
    }
   ],
   "source": [
    "for i, descrip in enumerate(prod['product_size'].unique()):\n",
    "    if 'LB' in descrip:\n",
    "        print(descrip)"
   ]
  },
  {
   "cell_type": "code",
   "execution_count": 14,
   "id": "94b975c8-f679-45de-b21e-502e4d977c44",
   "metadata": {
    "tags": []
   },
   "outputs": [],
   "source": [
    "prod.loc[prod['product_size'] == 'N     1 LB', 'product_size'] = '16 OZ'\n",
    "prod.loc[prod['product_size'] == '1 LB', 'product_size'] = '16 OZ'\n",
    "prod.loc[prod['product_size'] == '2 LB', 'product_size'] = '32 OZ'\n",
    "prod.loc[prod['product_size'] == '1.5 LB', 'product_size'] = '24 OZ'\n",
    "prod.loc[prod['product_size'] == '3LB', 'product_size'] = '48 OZ'\n",
    "prod.loc[prod['product_size'] == 'P     1 LB', 'product_size'] = '16 OZ'\n",
    "prod.loc[prod['product_size'] == '6 LB 11 OZ', 'product_size'] = '107 OZ'\n",
    "prod.loc[prod['product_size'] == '4 LB', 'product_size'] = '64 OZ'\n",
    "prod.loc[prod['product_size'] == '3 LB', 'product_size'] = '48 OZ'"
   ]
  },
  {
   "cell_type": "code",
   "execution_count": 15,
   "id": "9e46522a-d85d-40f5-838e-29e2c412d18b",
   "metadata": {
    "tags": []
   },
   "outputs": [
    {
     "name": "stdout",
     "output_type": "stream",
     "text": [
      "31 1/2 OZ\n",
      "6 1/2 OZ\n"
     ]
    }
   ],
   "source": [
    "for i, descrip in enumerate(prod['product_size'].unique()):\n",
    "    if '/' in descrip:\n",
    "        print(descrip)"
   ]
  },
  {
   "cell_type": "code",
   "execution_count": 16,
   "id": "4db389c7-d748-4f39-ba8e-b46c129cc1c2",
   "metadata": {
    "tags": []
   },
   "outputs": [],
   "source": [
    "prod.loc[prod['product_size'] == '31 1/2 OZ', 'product_size'] = '31.5 OZ'\n",
    "prod.loc[prod['product_size'] == '6 1/2 OZ', 'product_size'] = '6.5 OZ'"
   ]
  },
  {
   "cell_type": "code",
   "execution_count": 17,
   "id": "6450068b-7a77-4455-912b-00f9cc64ac3b",
   "metadata": {
    "tags": []
   },
   "outputs": [
    {
     "name": "stdout",
     "output_type": "stream",
     "text": [
      "##########\n",
      "KH# 61780\n",
      "KH# 20749\n",
      "KH# 18280\n",
      "KH# 18283\n",
      "KH# 39724\n",
      "KH# 68255\n"
     ]
    }
   ],
   "source": [
    "for i, descrip in enumerate(prod['product_size'].unique()):\n",
    "    if '#' in descrip:\n",
    "        print(descrip)"
   ]
  },
  {
   "cell_type": "code",
   "execution_count": 18,
   "id": "eacdd469-9d26-4fad-bacc-ee1223cc759f",
   "metadata": {
    "tags": []
   },
   "outputs": [
    {
     "data": {
      "text/html": [
       "<div>\n",
       "<style scoped>\n",
       "    .dataframe tbody tr th:only-of-type {\n",
       "        vertical-align: middle;\n",
       "    }\n",
       "\n",
       "    .dataframe tbody tr th {\n",
       "        vertical-align: top;\n",
       "    }\n",
       "\n",
       "    .dataframe thead th {\n",
       "        text-align: right;\n",
       "    }\n",
       "</style>\n",
       "<table border=\"1\" class=\"dataframe\">\n",
       "  <thead>\n",
       "    <tr style=\"text-align: right;\">\n",
       "      <th></th>\n",
       "      <th>upc</th>\n",
       "      <th>product_description</th>\n",
       "      <th>commodity</th>\n",
       "      <th>brand</th>\n",
       "      <th>product_size</th>\n",
       "    </tr>\n",
       "  </thead>\n",
       "  <tbody>\n",
       "    <tr>\n",
       "      <th>142</th>\n",
       "      <td>2682500951</td>\n",
       "      <td>LA RUSSA REGULAR EGG NOODLE PL</td>\n",
       "      <td>pasta</td>\n",
       "      <td>La Russa</td>\n",
       "      <td>##########</td>\n",
       "    </tr>\n",
       "    <tr>\n",
       "      <th>151</th>\n",
       "      <td>2706457001</td>\n",
       "      <td>VITA SPELT WHOLE GRAIN EGG NOO</td>\n",
       "      <td>pasta</td>\n",
       "      <td>Vita</td>\n",
       "      <td>##########</td>\n",
       "    </tr>\n",
       "    <tr>\n",
       "      <th>198</th>\n",
       "      <td>3068434050</td>\n",
       "      <td>TREE OF LIFE REGULAR BLACKSTRA</td>\n",
       "      <td>syrups</td>\n",
       "      <td>Tree of Life</td>\n",
       "      <td>##########</td>\n",
       "    </tr>\n",
       "    <tr>\n",
       "      <th>199</th>\n",
       "      <td>3068434052</td>\n",
       "      <td>TREE OF LIFE REGULAR BLACKSTRA</td>\n",
       "      <td>syrups</td>\n",
       "      <td>Tree of Life</td>\n",
       "      <td>##########</td>\n",
       "    </tr>\n",
       "    <tr>\n",
       "      <th>397</th>\n",
       "      <td>4300034901</td>\n",
       "      <td>LOG CABIN MAPLE PANCAKE/WAFFLE</td>\n",
       "      <td>syrups</td>\n",
       "      <td>Log Cabin</td>\n",
       "      <td>##########</td>\n",
       "    </tr>\n",
       "    <tr>\n",
       "      <th>530</th>\n",
       "      <td>6971911431</td>\n",
       "      <td>PATSYS PUTTANESCA SCE 24Z</td>\n",
       "      <td>pasta sauce</td>\n",
       "      <td>Patsy's</td>\n",
       "      <td>KH# 61780</td>\n",
       "    </tr>\n",
       "    <tr>\n",
       "      <th>635</th>\n",
       "      <td>7151800030</td>\n",
       "      <td>H M WHL WHT RADIATORE 16Z</td>\n",
       "      <td>pasta</td>\n",
       "      <td>Hodgson Mills</td>\n",
       "      <td>KH# 20749</td>\n",
       "    </tr>\n",
       "    <tr>\n",
       "      <th>701</th>\n",
       "      <td>7546203810</td>\n",
       "      <td>DEL ALPE EGG FETTUCINE 8Z</td>\n",
       "      <td>pasta</td>\n",
       "      <td>Dell Alpe</td>\n",
       "      <td>KH# 18280</td>\n",
       "    </tr>\n",
       "    <tr>\n",
       "      <th>703</th>\n",
       "      <td>7546203814</td>\n",
       "      <td>D A TRI COLR FETTUCINE 8Z</td>\n",
       "      <td>pasta</td>\n",
       "      <td>Dell Alpe</td>\n",
       "      <td>KH# 18283</td>\n",
       "    </tr>\n",
       "    <tr>\n",
       "      <th>758</th>\n",
       "      <td>7935400232</td>\n",
       "      <td>SAND MOUNTAIN REGULAR SORGHUM</td>\n",
       "      <td>syrups</td>\n",
       "      <td>Sand Mountain</td>\n",
       "      <td>##########</td>\n",
       "    </tr>\n",
       "    <tr>\n",
       "      <th>788</th>\n",
       "      <td>8912527000</td>\n",
       "      <td>QUINOA W/F PASTA SHELL 8Z</td>\n",
       "      <td>pasta</td>\n",
       "      <td>Quinoa</td>\n",
       "      <td>KH# 39724</td>\n",
       "    </tr>\n",
       "    <tr>\n",
       "      <th>790</th>\n",
       "      <td>8939710379</td>\n",
       "      <td>RAC FIRE RST SPC PPRS 3Z</td>\n",
       "      <td>pasta sauce</td>\n",
       "      <td>RAC</td>\n",
       "      <td>KH# 68255</td>\n",
       "    </tr>\n",
       "  </tbody>\n",
       "</table>\n",
       "</div>"
      ],
      "text/plain": [
       "            upc             product_description    commodity          brand  \\\n",
       "142  2682500951  LA RUSSA REGULAR EGG NOODLE PL        pasta       La Russa   \n",
       "151  2706457001  VITA SPELT WHOLE GRAIN EGG NOO        pasta           Vita   \n",
       "198  3068434050  TREE OF LIFE REGULAR BLACKSTRA       syrups   Tree of Life   \n",
       "199  3068434052  TREE OF LIFE REGULAR BLACKSTRA       syrups   Tree of Life   \n",
       "397  4300034901  LOG CABIN MAPLE PANCAKE/WAFFLE       syrups      Log Cabin   \n",
       "530  6971911431       PATSYS PUTTANESCA SCE 24Z  pasta sauce        Patsy's   \n",
       "635  7151800030       H M WHL WHT RADIATORE 16Z        pasta  Hodgson Mills   \n",
       "701  7546203810       DEL ALPE EGG FETTUCINE 8Z        pasta      Dell Alpe   \n",
       "703  7546203814       D A TRI COLR FETTUCINE 8Z        pasta      Dell Alpe   \n",
       "758  7935400232   SAND MOUNTAIN REGULAR SORGHUM       syrups  Sand Mountain   \n",
       "788  8912527000       QUINOA W/F PASTA SHELL 8Z        pasta         Quinoa   \n",
       "790  8939710379        RAC FIRE RST SPC PPRS 3Z  pasta sauce            RAC   \n",
       "\n",
       "    product_size  \n",
       "142   ##########  \n",
       "151   ##########  \n",
       "198   ##########  \n",
       "199   ##########  \n",
       "397   ##########  \n",
       "530    KH# 61780  \n",
       "635    KH# 20749  \n",
       "701    KH# 18280  \n",
       "703    KH# 18283  \n",
       "758   ##########  \n",
       "788    KH# 39724  \n",
       "790    KH# 68255  "
      ]
     },
     "execution_count": 18,
     "metadata": {},
     "output_type": "execute_result"
    }
   ],
   "source": [
    "prod[prod['product_size'].str.contains('#')]"
   ]
  },
  {
   "cell_type": "code",
   "execution_count": 19,
   "id": "6df2502a-9f36-46cb-95cb-e4daa2f8c647",
   "metadata": {
    "tags": []
   },
   "outputs": [],
   "source": [
    "prod.loc[prod['product_description'] == 'PATSYS PUTTANESCA SCE 24Z', 'product_size'] = '24 OZ'\n",
    "prod.loc[prod['product_description'] == 'H M WHL WHT RADIATORE 16Z', 'product_size'] = '16 OZ'\n",
    "prod.loc[prod['product_description'] == 'DEL ALPE EGG FETTUCINE 8Z', 'product_size'] = '8 OZ'\n",
    "prod.loc[prod['product_description'] == 'D A TRI COLR FETTUCINE 8Z', 'product_size'] = '8 OZ'\n",
    "prod.loc[prod['product_description'] == 'QUINOA W/F PASTA SHELL 8Z', 'product_size'] = '3 OZ'\n",
    "prod.loc[prod['product_description'] == 'RAC FIRE RST SPC PPRS 3Z', 'product_size'] = '3 OZ'"
   ]
  },
  {
   "cell_type": "code",
   "execution_count": 20,
   "id": "0492b88d-de8c-4c48-a22f-e899d775c25f",
   "metadata": {
    "tags": []
   },
   "outputs": [
    {
     "data": {
      "text/plain": [
       "array(['25 OZ', '40 OZ', '19 OZ', '12 OZ', '26    OZ', '26 OUNCE',\n",
       "       '26 OZ', '16 OZ', '17 OZ', '26.5 OZ', '5 OZ', '10.5 OZ', '15 OZ',\n",
       "       '24 OZ', '5.5 OZ', '7 OZ', '32 OZ', '16  OZ', '16  Z', '8 OZ',\n",
       "       '16OZ', '13.25 OZ', '6.75 OZ', '7.75 OZ', '27.6 OZ', ' ', '37 OZ',\n",
       "       '7.25 OZ', '12 FL OZ', '17.5 OZ', '10 OZ', '31.5 OZ', '##########',\n",
       "       '48 OZ', '24  OZ', '32    OZ', '36 OZ', '36    OZ', '6.5 OZ',\n",
       "       'CR   16 OZ', 'P    16 OZ', 'P    12 OZ', '14 OZ', '26 OZ.',\n",
       "       '26.3 OZ', '16    OZ', '107 OZ', '45 OZ', '45 OZ PET', '45    OZ',\n",
       "       '45 OZ.', '25.3 OZ', '6.3 OZ', '23 OZ', '8.5 OZ', 'P    24 OZ',\n",
       "       '10OZ', '10    OZ', '28 OZ', '12.00Z', '12    OZ', '24 FL OZ',\n",
       "       '24OZ', '36 FL OZ', '17.7 OZ', '24    OZ', '17.6 OZ', '12.7 OZ',\n",
       "       '25.5 OZ', '27.75 OZ', '67  OZ', '67 OZ', '48    OZ', '28    OZ',\n",
       "       '25.75 OZ', '25.6 OZ', '27.50 OZ', '27.5 OZ', '14.5 OZ', '12.5 OZ',\n",
       "       '23OZ', 'GAL', '11.6', '7    OZ', '3.5 OZ', 'SO   16 OZ', '8.8 OZ',\n",
       "       'NO TAG', '16.00  OZ', 'N    16 OZ', '12 OUNCE', '6 OZ', '8 OUNCE',\n",
       "       '2.8 OZ', '15.5 OZ', '24 OUNCE', 'P    25 OZ', '16.9 OZ', '.50 OZ',\n",
       "       '1.1 OZ', '10.6 OZ', '16 OUNCE', '9    OZ', '8    OZ', '13 OZ',\n",
       "       '13OZ FMLY', '2.5 OZ', '20 OZ', '12.5 FL OZ', '3 OZ', 'CR   14 OZ',\n",
       "       '64 OZ', '36 OZ.', '26.50 OZ', 'N     7 OZ', '32OZ'], dtype=object)"
      ]
     },
     "execution_count": 20,
     "metadata": {},
     "output_type": "execute_result"
    }
   ],
   "source": [
    "prod['product_size'].unique()"
   ]
  },
  {
   "cell_type": "markdown",
   "id": "a7234c3a-6998-4a68-b90a-d08bfe468682",
   "metadata": {},
   "source": [
    "GAL, NO TAG"
   ]
  },
  {
   "cell_type": "code",
   "execution_count": 21,
   "id": "fd979453-b1f3-4783-8ce2-0d369d62edcd",
   "metadata": {
    "tags": []
   },
   "outputs": [],
   "source": [
    "prod.loc[prod['product_size'] == 'GAL', 'product_size'] = '0 OZ'\n",
    "prod.loc[prod['product_size'] == 'NO TAG', 'product_size'] = '0 OZ'\n",
    "prod.loc[prod['product_size'] == '.50 OZ', 'product_size'] = '0.50 OZ'\n",
    "prod.loc[prod['product_size'] == '##########', 'product_size'] = '0 OZ'"
   ]
  },
  {
   "cell_type": "code",
   "execution_count": 22,
   "id": "483dc6de-a001-4144-8ab5-56d199dd2816",
   "metadata": {
    "tags": []
   },
   "outputs": [
    {
     "data": {
      "text/plain": [
       "array(['25 OZ', '40 OZ', '19 OZ', '12 OZ', '26    OZ', '26 OUNCE',\n",
       "       '26 OZ', '16 OZ', '17 OZ', '26.5 OZ', '5 OZ', '10.5 OZ', '15 OZ',\n",
       "       '24 OZ', '5.5 OZ', '7 OZ', '32 OZ', '16  OZ', '16  Z', '8 OZ',\n",
       "       '16OZ', '13.25 OZ', '6.75 OZ', '7.75 OZ', '27.6 OZ', ' ', '37 OZ',\n",
       "       '7.25 OZ', '12 FL OZ', '17.5 OZ', '10 OZ', '31.5 OZ', '0 OZ',\n",
       "       '48 OZ', '24  OZ', '32    OZ', '36 OZ', '36    OZ', '6.5 OZ',\n",
       "       'CR   16 OZ', 'P    16 OZ', 'P    12 OZ', '14 OZ', '26 OZ.',\n",
       "       '26.3 OZ', '16    OZ', '107 OZ', '45 OZ', '45 OZ PET', '45    OZ',\n",
       "       '45 OZ.', '25.3 OZ', '6.3 OZ', '23 OZ', '8.5 OZ', 'P    24 OZ',\n",
       "       '10OZ', '10    OZ', '28 OZ', '12.00Z', '12    OZ', '24 FL OZ',\n",
       "       '24OZ', '36 FL OZ', '17.7 OZ', '24    OZ', '17.6 OZ', '12.7 OZ',\n",
       "       '25.5 OZ', '27.75 OZ', '67  OZ', '67 OZ', '48    OZ', '28    OZ',\n",
       "       '25.75 OZ', '25.6 OZ', '27.50 OZ', '27.5 OZ', '14.5 OZ', '12.5 OZ',\n",
       "       '23OZ', '11.6', '7    OZ', '3.5 OZ', 'SO   16 OZ', '8.8 OZ',\n",
       "       '16.00  OZ', 'N    16 OZ', '12 OUNCE', '6 OZ', '8 OUNCE', '2.8 OZ',\n",
       "       '15.5 OZ', '24 OUNCE', 'P    25 OZ', '16.9 OZ', '0.50 OZ',\n",
       "       '1.1 OZ', '10.6 OZ', '16 OUNCE', '9    OZ', '8    OZ', '13 OZ',\n",
       "       '13OZ FMLY', '2.5 OZ', '20 OZ', '12.5 FL OZ', '3 OZ', 'CR   14 OZ',\n",
       "       '64 OZ', '36 OZ.', '26.50 OZ', 'N     7 OZ', '32OZ'], dtype=object)"
      ]
     },
     "execution_count": 22,
     "metadata": {},
     "output_type": "execute_result"
    }
   ],
   "source": [
    "prod['product_size'].unique()"
   ]
  },
  {
   "cell_type": "code",
   "execution_count": 23,
   "id": "4a0d835e-0c4a-4065-8f41-29568b5f5a14",
   "metadata": {
    "tags": []
   },
   "outputs": [],
   "source": [
    "prod['product_size'] = prod['product_size'].str.replace('OZ', '')"
   ]
  },
  {
   "cell_type": "code",
   "execution_count": 24,
   "id": "1c9e9fdd-4745-47d3-bbe5-38918eea31f6",
   "metadata": {
    "tags": []
   },
   "outputs": [
    {
     "data": {
      "text/plain": [
       "array(['25 ', '40 ', '19 ', '12 ', '26    ', '26 OUNCE', '26 ', '16 ',\n",
       "       '17 ', '26.5 ', '5 ', '10.5 ', '15 ', '24 ', '5.5 ', '7 ', '32 ',\n",
       "       '16  ', '16  Z', '8 ', '16', '13.25 ', '6.75 ', '7.75 ', '27.6 ',\n",
       "       ' ', '37 ', '7.25 ', '12 FL ', '17.5 ', '10 ', '31.5 ', '0 ',\n",
       "       '48 ', '24  ', '32    ', '36 ', '36    ', '6.5 ', 'CR   16 ',\n",
       "       'P    16 ', 'P    12 ', '14 ', '26 .', '26.3 ', '16    ', '107 ',\n",
       "       '45 ', '45  PET', '45    ', '45 .', '25.3 ', '6.3 ', '23 ', '8.5 ',\n",
       "       'P    24 ', '10', '10    ', '28 ', '12.00Z', '12    ', '24 FL ',\n",
       "       '24', '36 FL ', '17.7 ', '24    ', '17.6 ', '12.7 ', '25.5 ',\n",
       "       '27.75 ', '67  ', '67 ', '48    ', '28    ', '25.75 ', '25.6 ',\n",
       "       '27.50 ', '27.5 ', '14.5 ', '12.5 ', '23', '11.6', '7    ', '3.5 ',\n",
       "       'SO   16 ', '8.8 ', '16.00  ', 'N    16 ', '12 OUNCE', '6 ',\n",
       "       '8 OUNCE', '2.8 ', '15.5 ', '24 OUNCE', 'P    25 ', '16.9 ',\n",
       "       '0.50 ', '1.1 ', '10.6 ', '16 OUNCE', '9    ', '8    ', '13 ',\n",
       "       '13 FMLY', '2.5 ', '20 ', '12.5 FL ', '3 ', 'CR   14 ', '64 ',\n",
       "       '36 .', '26.50 ', 'N     7 ', '32'], dtype=object)"
      ]
     },
     "execution_count": 24,
     "metadata": {},
     "output_type": "execute_result"
    }
   ],
   "source": [
    "prod['product_size'].unique()"
   ]
  },
  {
   "cell_type": "code",
   "execution_count": 25,
   "id": "975b9393-699a-4c94-8592-9897fefacd2c",
   "metadata": {
    "tags": []
   },
   "outputs": [],
   "source": [
    "prod['product_size'] = prod['product_size'].str.replace(' ', '')"
   ]
  },
  {
   "cell_type": "code",
   "execution_count": 26,
   "id": "b4288377-f428-4c3b-b5ca-9877d432ed9b",
   "metadata": {
    "tags": []
   },
   "outputs": [
    {
     "data": {
      "text/plain": [
       "array(['25', '40', '19', '12', '26', '26OUNCE', '16', '17', '26.5', '5',\n",
       "       '10.5', '15', '24', '5.5', '7', '32', '16Z', '8', '13.25', '6.75',\n",
       "       '7.75', '27.6', '', '37', '7.25', '12FL', '17.5', '10', '31.5',\n",
       "       '0', '48', '36', '6.5', 'CR16', 'P16', 'P12', '14', '26.', '26.3',\n",
       "       '107', '45', '45PET', '45.', '25.3', '6.3', '23', '8.5', 'P24',\n",
       "       '28', '12.00Z', '24FL', '36FL', '17.7', '17.6', '12.7', '25.5',\n",
       "       '27.75', '67', '25.75', '25.6', '27.50', '27.5', '14.5', '12.5',\n",
       "       '11.6', '3.5', 'SO16', '8.8', '16.00', 'N16', '12OUNCE', '6',\n",
       "       '8OUNCE', '2.8', '15.5', '24OUNCE', 'P25', '16.9', '0.50', '1.1',\n",
       "       '10.6', '16OUNCE', '9', '13', '13FMLY', '2.5', '20', '12.5FL', '3',\n",
       "       'CR14', '64', '36.', '26.50', 'N7'], dtype=object)"
      ]
     },
     "execution_count": 26,
     "metadata": {},
     "output_type": "execute_result"
    }
   ],
   "source": [
    "prod['product_size'].unique()"
   ]
  },
  {
   "cell_type": "code",
   "execution_count": 27,
   "id": "c35fb497-7d2a-4474-a571-6f1aaeae4684",
   "metadata": {
    "tags": []
   },
   "outputs": [],
   "source": [
    "prod['product_size'] = prod['product_size'].str.replace('OUNCE', '')"
   ]
  },
  {
   "cell_type": "code",
   "execution_count": 28,
   "id": "5aa6b90a-ab42-4d81-b947-289c942f4142",
   "metadata": {
    "tags": []
   },
   "outputs": [
    {
     "data": {
      "text/plain": [
       "array(['25', '40', '19', '12', '26', '16', '17', '26.5', '5', '10.5',\n",
       "       '15', '24', '5.5', '7', '32', '16Z', '8', '13.25', '6.75', '7.75',\n",
       "       '27.6', '', '37', '7.25', '12FL', '17.5', '10', '31.5', '0', '48',\n",
       "       '36', '6.5', 'CR16', 'P16', 'P12', '14', '26.', '26.3', '107',\n",
       "       '45', '45PET', '45.', '25.3', '6.3', '23', '8.5', 'P24', '28',\n",
       "       '12.00Z', '24FL', '36FL', '17.7', '17.6', '12.7', '25.5', '27.75',\n",
       "       '67', '25.75', '25.6', '27.50', '27.5', '14.5', '12.5', '11.6',\n",
       "       '3.5', 'SO16', '8.8', '16.00', 'N16', '6', '2.8', '15.5', 'P25',\n",
       "       '16.9', '0.50', '1.1', '10.6', '9', '13', '13FMLY', '2.5', '20',\n",
       "       '12.5FL', '3', 'CR14', '64', '36.', '26.50', 'N7'], dtype=object)"
      ]
     },
     "execution_count": 28,
     "metadata": {},
     "output_type": "execute_result"
    }
   ],
   "source": [
    "prod['product_size'].unique()"
   ]
  },
  {
   "cell_type": "code",
   "execution_count": 29,
   "id": "4fded3bf-092b-479f-ad46-452490c3fd65",
   "metadata": {
    "tags": []
   },
   "outputs": [],
   "source": [
    "prod['product_size'] = prod['product_size'].str.replace(' ', '')"
   ]
  },
  {
   "cell_type": "code",
   "execution_count": 30,
   "id": "4f13ff6f-3134-44a5-b5c0-e0a682e95891",
   "metadata": {
    "tags": []
   },
   "outputs": [
    {
     "data": {
      "text/plain": [
       "array(['25', '40', '19', '12', '26', '16', '17', '26.5', '5', '10.5',\n",
       "       '15', '24', '5.5', '7', '32', '16Z', '8', '13.25', '6.75', '7.75',\n",
       "       '27.6', '', '37', '7.25', '12FL', '17.5', '10', '31.5', '0', '48',\n",
       "       '36', '6.5', 'CR16', 'P16', 'P12', '14', '26.', '26.3', '107',\n",
       "       '45', '45PET', '45.', '25.3', '6.3', '23', '8.5', 'P24', '28',\n",
       "       '12.00Z', '24FL', '36FL', '17.7', '17.6', '12.7', '25.5', '27.75',\n",
       "       '67', '25.75', '25.6', '27.50', '27.5', '14.5', '12.5', '11.6',\n",
       "       '3.5', 'SO16', '8.8', '16.00', 'N16', '6', '2.8', '15.5', 'P25',\n",
       "       '16.9', '0.50', '1.1', '10.6', '9', '13', '13FMLY', '2.5', '20',\n",
       "       '12.5FL', '3', 'CR14', '64', '36.', '26.50', 'N7'], dtype=object)"
      ]
     },
     "execution_count": 30,
     "metadata": {},
     "output_type": "execute_result"
    }
   ],
   "source": [
    "prod['product_size'].unique()"
   ]
  },
  {
   "cell_type": "code",
   "execution_count": 31,
   "id": "6dbe6f22-51cc-48f1-ae2f-d94c17fdfc51",
   "metadata": {
    "tags": []
   },
   "outputs": [],
   "source": [
    "prod['product_size'] = prod['product_size'].str.replace('N', '')\n",
    "prod['product_size'] = prod['product_size'].str.replace('FMLY', '')\n",
    "prod['product_size'] = prod['product_size'].str.replace('CR', '')\n",
    "prod['product_size'] = prod['product_size'].str.replace('FL', '')\n",
    "prod['product_size'] = prod['product_size'].str.replace('Z', '')\n",
    "prod['product_size'] = prod['product_size'].str.replace('PET', '')\n",
    "prod['product_size'] = prod['product_size'].str.replace('P', '')\n",
    "prod['product_size'] = prod['product_size'].str.replace('SO', '')"
   ]
  },
  {
   "cell_type": "code",
   "execution_count": 32,
   "id": "65632f71-8eae-4382-912e-a6e7731ca74d",
   "metadata": {
    "tags": []
   },
   "outputs": [
    {
     "data": {
      "text/plain": [
       "array(['25', '40', '19', '12', '26', '16', '17', '26.5', '5', '10.5',\n",
       "       '15', '24', '5.5', '7', '32', '8', '13.25', '6.75', '7.75', '27.6',\n",
       "       '', '37', '7.25', '17.5', '10', '31.5', '0', '48', '36', '6.5',\n",
       "       '14', '26.', '26.3', '107', '45', '45.', '25.3', '6.3', '23',\n",
       "       '8.5', '28', '12.00', '17.7', '17.6', '12.7', '25.5', '27.75',\n",
       "       '67', '25.75', '25.6', '27.50', '27.5', '14.5', '12.5', '11.6',\n",
       "       '3.5', '8.8', '16.00', '6', '2.8', '15.5', '16.9', '0.50', '1.1',\n",
       "       '10.6', '9', '13', '2.5', '20', '3', '64', '36.', '26.50'],\n",
       "      dtype=object)"
      ]
     },
     "execution_count": 32,
     "metadata": {},
     "output_type": "execute_result"
    }
   ],
   "source": [
    "prod['product_size'].unique()"
   ]
  },
  {
   "cell_type": "code",
   "execution_count": 33,
   "id": "0839168f-fdd4-41c2-9cef-417836051af8",
   "metadata": {
    "tags": []
   },
   "outputs": [],
   "source": [
    "prod.loc[prod['product_size'] == '', 'product_size'] = '0'"
   ]
  },
  {
   "cell_type": "code",
   "execution_count": 34,
   "id": "0794b8cb-904d-4119-90d5-131f7510c63c",
   "metadata": {
    "tags": []
   },
   "outputs": [
    {
     "data": {
      "text/plain": [
       "array(['25', '40', '19', '12', '26', '16', '17', '26.5', '5', '10.5',\n",
       "       '15', '24', '5.5', '7', '32', '8', '13.25', '6.75', '7.75', '27.6',\n",
       "       '0', '37', '7.25', '17.5', '10', '31.5', '48', '36', '6.5', '14',\n",
       "       '26.', '26.3', '107', '45', '45.', '25.3', '6.3', '23', '8.5',\n",
       "       '28', '12.00', '17.7', '17.6', '12.7', '25.5', '27.75', '67',\n",
       "       '25.75', '25.6', '27.50', '27.5', '14.5', '12.5', '11.6', '3.5',\n",
       "       '8.8', '16.00', '6', '2.8', '15.5', '16.9', '0.50', '1.1', '10.6',\n",
       "       '9', '13', '2.5', '20', '3', '64', '36.', '26.50'], dtype=object)"
      ]
     },
     "execution_count": 34,
     "metadata": {},
     "output_type": "execute_result"
    }
   ],
   "source": [
    "prod['product_size'].unique()"
   ]
  },
  {
   "cell_type": "code",
   "execution_count": 35,
   "id": "8ef9d933-369d-442c-a3bd-6f1a254a7c0b",
   "metadata": {
    "tags": []
   },
   "outputs": [],
   "source": [
    "prod['product_size'] = prod['product_size'].astype(float)"
   ]
  },
  {
   "cell_type": "code",
   "execution_count": 36,
   "id": "073dc5ac-9157-4e21-a4fd-beb6b6236cdd",
   "metadata": {
    "tags": []
   },
   "outputs": [
    {
     "name": "stdout",
     "output_type": "stream",
     "text": [
      "<class 'pandas.core.frame.DataFrame'>\n",
      "RangeIndex: 927 entries, 0 to 926\n",
      "Data columns (total 5 columns):\n",
      " #   Column               Non-Null Count  Dtype  \n",
      "---  ------               --------------  -----  \n",
      " 0   upc                  927 non-null    int64  \n",
      " 1   product_description  927 non-null    object \n",
      " 2   commodity            927 non-null    object \n",
      " 3   brand                927 non-null    object \n",
      " 4   product_size         927 non-null    float64\n",
      "dtypes: float64(1), int64(1), object(3)\n",
      "memory usage: 36.3+ KB\n"
     ]
    }
   ],
   "source": [
    "prod.info()"
   ]
  },
  {
   "cell_type": "markdown",
   "id": "8b69f883-d23f-47c9-82ab-d266835ad9e8",
   "metadata": {},
   "source": [
    "# Convert cleaned product_size table to numbersical categorial"
   ]
  },
  {
   "cell_type": "code",
   "execution_count": 37,
   "id": "d48150a0-3c8c-45ad-98de-02d682c9a40a",
   "metadata": {
    "tags": []
   },
   "outputs": [
    {
     "data": {
      "text/html": [
       "<div>\n",
       "<style scoped>\n",
       "    .dataframe tbody tr th:only-of-type {\n",
       "        vertical-align: middle;\n",
       "    }\n",
       "\n",
       "    .dataframe tbody tr th {\n",
       "        vertical-align: top;\n",
       "    }\n",
       "\n",
       "    .dataframe thead th {\n",
       "        text-align: right;\n",
       "    }\n",
       "</style>\n",
       "<table border=\"1\" class=\"dataframe\">\n",
       "  <thead>\n",
       "    <tr style=\"text-align: right;\">\n",
       "      <th></th>\n",
       "      <th>upc</th>\n",
       "      <th>product_description</th>\n",
       "      <th>commodity</th>\n",
       "      <th>brand</th>\n",
       "      <th>product_size</th>\n",
       "      <th>commodity_codes</th>\n",
       "      <th>brand_codes</th>\n",
       "    </tr>\n",
       "  </thead>\n",
       "  <tbody>\n",
       "    <tr>\n",
       "      <th>0</th>\n",
       "      <td>111112360</td>\n",
       "      <td>VINCENT S ORIG MARINARA S</td>\n",
       "      <td>pasta sauce</td>\n",
       "      <td>Vincent's</td>\n",
       "      <td>25.0</td>\n",
       "      <td>2</td>\n",
       "      <td>126</td>\n",
       "    </tr>\n",
       "    <tr>\n",
       "      <th>1</th>\n",
       "      <td>566300023</td>\n",
       "      <td>PINE MOUNTAIN SYRUP</td>\n",
       "      <td>syrups</td>\n",
       "      <td>Pine Mountain</td>\n",
       "      <td>40.0</td>\n",
       "      <td>3</td>\n",
       "      <td>100</td>\n",
       "    </tr>\n",
       "    <tr>\n",
       "      <th>2</th>\n",
       "      <td>566300028</td>\n",
       "      <td>MILLER CANE SYRUP</td>\n",
       "      <td>syrups</td>\n",
       "      <td>Miller</td>\n",
       "      <td>19.0</td>\n",
       "      <td>3</td>\n",
       "      <td>81</td>\n",
       "    </tr>\n",
       "    <tr>\n",
       "      <th>3</th>\n",
       "      <td>566300029</td>\n",
       "      <td>MILLER CANE SYRUP</td>\n",
       "      <td>syrups</td>\n",
       "      <td>Miller</td>\n",
       "      <td>12.0</td>\n",
       "      <td>3</td>\n",
       "      <td>81</td>\n",
       "    </tr>\n",
       "    <tr>\n",
       "      <th>4</th>\n",
       "      <td>566300035</td>\n",
       "      <td>PINE MOUNTAIN SYRUP</td>\n",
       "      <td>syrups</td>\n",
       "      <td>Pine Mountain</td>\n",
       "      <td>19.0</td>\n",
       "      <td>3</td>\n",
       "      <td>100</td>\n",
       "    </tr>\n",
       "    <tr>\n",
       "      <th>...</th>\n",
       "      <td>...</td>\n",
       "      <td>...</td>\n",
       "      <td>...</td>\n",
       "      <td>...</td>\n",
       "      <td>...</td>\n",
       "      <td>...</td>\n",
       "      <td>...</td>\n",
       "    </tr>\n",
       "    <tr>\n",
       "      <th>922</th>\n",
       "      <td>9999985217</td>\n",
       "      <td>PRIVATE LABEL ALPHABETS</td>\n",
       "      <td>pasta</td>\n",
       "      <td>Private Label</td>\n",
       "      <td>16.0</td>\n",
       "      <td>1</td>\n",
       "      <td>104</td>\n",
       "    </tr>\n",
       "    <tr>\n",
       "      <th>923</th>\n",
       "      <td>9999985260</td>\n",
       "      <td>PRIVATE LABEL COMPLETE PANCAKE MIX</td>\n",
       "      <td>pancake mixes</td>\n",
       "      <td>Private Label</td>\n",
       "      <td>32.0</td>\n",
       "      <td>0</td>\n",
       "      <td>104</td>\n",
       "    </tr>\n",
       "    <tr>\n",
       "      <th>924</th>\n",
       "      <td>9999985261</td>\n",
       "      <td>PRIVATE LABEL COMPLETE PANCAKE MIX</td>\n",
       "      <td>pancake mixes</td>\n",
       "      <td>Private Label</td>\n",
       "      <td>32.0</td>\n",
       "      <td>0</td>\n",
       "      <td>104</td>\n",
       "    </tr>\n",
       "    <tr>\n",
       "      <th>925</th>\n",
       "      <td>9999985488</td>\n",
       "      <td>PRIVATE LABEL ITAL NESTED ANGEL HAIR</td>\n",
       "      <td>pasta</td>\n",
       "      <td>Private Label Premium</td>\n",
       "      <td>16.0</td>\n",
       "      <td>1</td>\n",
       "      <td>105</td>\n",
       "    </tr>\n",
       "    <tr>\n",
       "      <th>926</th>\n",
       "      <td>9999985766</td>\n",
       "      <td>PRIVATE LABEL ITALIAN TRI COLORE CRE</td>\n",
       "      <td>pasta</td>\n",
       "      <td>Private Label Premium</td>\n",
       "      <td>16.0</td>\n",
       "      <td>1</td>\n",
       "      <td>105</td>\n",
       "    </tr>\n",
       "  </tbody>\n",
       "</table>\n",
       "<p>927 rows × 7 columns</p>\n",
       "</div>"
      ],
      "text/plain": [
       "            upc                   product_description      commodity  \\\n",
       "0     111112360             VINCENT S ORIG MARINARA S    pasta sauce   \n",
       "1     566300023                   PINE MOUNTAIN SYRUP         syrups   \n",
       "2     566300028                     MILLER CANE SYRUP         syrups   \n",
       "3     566300029                     MILLER CANE SYRUP         syrups   \n",
       "4     566300035                   PINE MOUNTAIN SYRUP         syrups   \n",
       "..          ...                                   ...            ...   \n",
       "922  9999985217               PRIVATE LABEL ALPHABETS          pasta   \n",
       "923  9999985260    PRIVATE LABEL COMPLETE PANCAKE MIX  pancake mixes   \n",
       "924  9999985261    PRIVATE LABEL COMPLETE PANCAKE MIX  pancake mixes   \n",
       "925  9999985488  PRIVATE LABEL ITAL NESTED ANGEL HAIR          pasta   \n",
       "926  9999985766  PRIVATE LABEL ITALIAN TRI COLORE CRE          pasta   \n",
       "\n",
       "                     brand  product_size  commodity_codes  brand_codes  \n",
       "0                Vincent's          25.0                2          126  \n",
       "1            Pine Mountain          40.0                3          100  \n",
       "2                   Miller          19.0                3           81  \n",
       "3                   Miller          12.0                3           81  \n",
       "4            Pine Mountain          19.0                3          100  \n",
       "..                     ...           ...              ...          ...  \n",
       "922          Private Label          16.0                1          104  \n",
       "923          Private Label          32.0                0          104  \n",
       "924          Private Label          32.0                0          104  \n",
       "925  Private Label Premium          16.0                1          105  \n",
       "926  Private Label Premium          16.0                1          105  \n",
       "\n",
       "[927 rows x 7 columns]"
      ]
     },
     "execution_count": 37,
     "metadata": {},
     "output_type": "execute_result"
    }
   ],
   "source": [
    "prod['commodity'] = prod['commodity'].astype('category')\n",
    "prod['commodity_codes'] = prod['commodity'].cat.codes\n",
    "prod['brand'] = prod['brand'].astype('category')\n",
    "prod['brand_codes'] = prod['brand'].cat.codes\n",
    "prod"
   ]
  },
  {
   "cell_type": "code",
   "execution_count": 38,
   "id": "2497c82b-eb96-4f70-8e60-215c36f07b39",
   "metadata": {
    "tags": []
   },
   "outputs": [],
   "source": [
    "prod.to_csv('dh_product_clean.csv', index=False)"
   ]
  },
  {
   "cell_type": "code",
   "execution_count": 39,
   "id": "8f611a13-436f-4357-bcfb-e6c639e8a176",
   "metadata": {},
   "outputs": [
    {
     "data": {
      "text/plain": [
       "commodity\n",
       "pancake mixes    [0]\n",
       "pasta            [1]\n",
       "pasta sauce      [2]\n",
       "syrups           [3]\n",
       "Name: commodity_codes, dtype: object"
      ]
     },
     "execution_count": 39,
     "metadata": {},
     "output_type": "execute_result"
    }
   ],
   "source": [
    "prod.groupby('commodity')['commodity_codes'].unique()"
   ]
  },
  {
   "cell_type": "code",
   "execution_count": 41,
   "id": "2f9f8c21-bbe2-47cd-a100-203eb8f1e2e2",
   "metadata": {},
   "outputs": [],
   "source": [
    "b=prod.groupby('brand')['brand_codes'].unique().to_frame()"
   ]
  },
  {
   "cell_type": "code",
   "execution_count": 54,
   "id": "cc588864-c680-4b80-b7fb-70c91384dcc5",
   "metadata": {},
   "outputs": [
    {
     "data": {
      "text/plain": [
       "brand_codes    [104]\n",
       "Name: Private Label, dtype: object"
      ]
     },
     "execution_count": 54,
     "metadata": {},
     "output_type": "execute_result"
    }
   ],
   "source": [
    "b.iloc[104]"
   ]
  },
  {
   "cell_type": "code",
   "execution_count": null,
   "id": "5ffe8c71-9b67-4523-b418-5c93fef1f1ac",
   "metadata": {},
   "outputs": [],
   "source": []
  },
  {
   "cell_type": "code",
   "execution_count": null,
   "id": "09db33f2-761a-4962-8f24-0b1909c2e9b6",
   "metadata": {},
   "outputs": [],
   "source": []
  },
  {
   "cell_type": "code",
   "execution_count": null,
   "id": "0664e22e-cf95-4f6a-ba2e-608f6304eb03",
   "metadata": {},
   "outputs": [],
   "source": []
  },
  {
   "cell_type": "code",
   "execution_count": null,
   "id": "62048610-67a8-46b6-bee0-c56a5c95a1dd",
   "metadata": {},
   "outputs": [],
   "source": []
  }
 ],
 "metadata": {
  "kernelspec": {
   "display_name": "Python 3 (ipykernel)",
   "language": "python",
   "name": "python3"
  },
  "language_info": {
   "codemirror_mode": {
    "name": "ipython",
    "version": 3
   },
   "file_extension": ".py",
   "mimetype": "text/x-python",
   "name": "python",
   "nbconvert_exporter": "python",
   "pygments_lexer": "ipython3",
   "version": "3.11.5"
  }
 },
 "nbformat": 4,
 "nbformat_minor": 5
}
